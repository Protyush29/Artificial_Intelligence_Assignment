{
 "cells": [
  {
   "cell_type": "code",
   "execution_count": 5,
   "metadata": {},
   "outputs": [],
   "source": [
    "class Tree(object):\n",
    "    def __init__(self,val,parent):\n",
    "        self.parent=parent\n",
    "        self.val=val\n",
    "        \n",
    "    def get_param(self):\n",
    "        print (self.val,self.parent)\n",
    "        return\n",
    "        \n",
    "        \n",
    "        "
   ]
  },
  {
   "cell_type": "code",
   "execution_count": 6,
   "metadata": {},
   "outputs": [],
   "source": [
    "def create_node():\n",
    "    node=Tree(None,(0,0))\n",
    "    node.get_param()"
   ]
  },
  {
   "cell_type": "code",
   "execution_count": 8,
   "metadata": {},
   "outputs": [
    {
     "name": "stdout",
     "output_type": "stream",
     "text": [
      "(None, (0, 0))\n",
      "[['D' ' ' 'D']]\n",
      "[[' ' ' ' ' ']]\n"
     ]
    }
   ],
   "source": [
    "create_node()\n",
    "import numpy as np\n",
    "\n",
    "array=np.array([['D',' ','D']])\n",
    "print array\n",
    "array[array=='D']=' '\n",
    "print array"
   ]
  }
 ],
 "metadata": {
  "kernelspec": {
   "display_name": "Python 2",
   "language": "python",
   "name": "python2"
  },
  "language_info": {
   "codemirror_mode": {
    "name": "ipython",
    "version": 2
   },
   "file_extension": ".py",
   "mimetype": "text/x-python",
   "name": "python",
   "nbconvert_exporter": "python",
   "pygments_lexer": "ipython2",
   "version": "2.7.12"
  }
 },
 "nbformat": 4,
 "nbformat_minor": 2
}
